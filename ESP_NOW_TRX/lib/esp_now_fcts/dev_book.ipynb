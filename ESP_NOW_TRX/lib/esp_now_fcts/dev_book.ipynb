{
 "cells": [
  {
   "cell_type": "code",
   "execution_count": 32,
   "metadata": {},
   "outputs": [
    {
     "name": "stdout",
     "output_type": "stream",
     "text": [
      "Unsigned Value: 2134\n",
      "Signed Value: 2134\n"
     ]
    }
   ],
   "source": [
    "def convert_2byte_to_decimal(byte1, byte2, signed=False):\n",
    "    # Combine the two bytes into a single integer\n",
    "    combined_value = (byte1 << 8) | byte2\n",
    "    \n",
    "    if signed:\n",
    "        # If the number is signed and the MSB is set, adjust for negative values\n",
    "        if combined_value >= 0x8000:\n",
    "            combined_value -= 0x10000\n",
    "    \n",
    "    return combined_value\n",
    "\n",
    "# 3bb1 byte byte1 7cab 5608\n",
    "# Example usage:\n",
    "byte1 = 0x08  # Example byte 1 (MSB)\n",
    "byte2 = 0x56  # Example byte 2 (LSB)\n",
    "\n",
    "# Unsigned conversion\n",
    "unsigned_value = convert_2byte_to_decimal(byte1, byte2)\n",
    "print(f\"Unsigned Value: {unsigned_value}\")\n",
    "\n",
    "# Signed conversion\n",
    "signed_value = convert_2byte_to_decimal(byte1, byte2, signed=True)\n",
    "print(f\"Signed Value: {signed_value}\")\n"
   ]
  },
  {
   "cell_type": "code",
   "execution_count": 72,
   "metadata": {},
   "outputs": [
    {
     "name": "stdout",
     "output_type": "stream",
     "text": [
      "00\n",
      "32768 991\n"
     ]
    }
   ],
   "source": [
    "def map_value(input_value, input_min, input_max, output_min, output_max):\n",
    "    # Map the input value from the input range to the output range\n",
    "    input_range = input_max - input_min\n",
    "    output_range = output_max - output_min\n",
    "    \n",
    "    # Scale the input value to the output range\n",
    "    mapped_value = ((input_value - input_min) * output_range / input_range) + output_min\n",
    "    \n",
    "    return int(mapped_value)\n",
    "\n",
    "data  =\"0080\"\n",
    "print(data[0:2])\n",
    "byte2 = (int(data[0:2],16))\n",
    "byte1 = (int(data[2:4],16))\n",
    "\n",
    "combined_value = ((byte1 << 8) | byte2) \n",
    "print(combined_value, map_value(combined_value,0,65535,172,1811))"
   ]
  }
 ],
 "metadata": {
  "kernelspec": {
   "display_name": "Python 3",
   "language": "python",
   "name": "python3"
  },
  "language_info": {
   "codemirror_mode": {
    "name": "ipython",
    "version": 3
   },
   "file_extension": ".py",
   "mimetype": "text/x-python",
   "name": "python",
   "nbconvert_exporter": "python",
   "pygments_lexer": "ipython3",
   "version": "3.11.7"
  }
 },
 "nbformat": 4,
 "nbformat_minor": 2
}
